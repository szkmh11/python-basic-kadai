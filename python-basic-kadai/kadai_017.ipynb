{
 "cells": [
  {
   "cell_type": "code",
   "execution_count": 8,
   "metadata": {},
   "outputs": [
    {
     "name": "stdout",
     "output_type": "stream",
     "text": [
      "大人\n",
      "大人ではない\n",
      "大人\n",
      "大人\n"
     ]
    }
   ],
   "source": [
    "class Human:\n",
    "    def __init__(self,name,age):\n",
    "        self.name = name\n",
    "        self.age = age\n",
    "\n",
    "    def check_adult(self):\n",
    "        if self.age >= 20:\n",
    "             print(\"大人\")\n",
    "        else:\n",
    "            print(\"大人ではない\")\n",
    "\n",
    "human1 = Human(\"おさかなまる\",500)\n",
    "human2 = Human(\"おさかなおう\",1)\n",
    "human3 = Human(\"おさかなてんごく\",20)\n",
    "human4 = Human(\"おさかなさん\",21)\n",
    "\n",
    "human_list = [human1,human2,human3,human4]\n",
    "\n",
    "for human in human_list:\n",
    "    human.check_adult()"
   ]
  },
  {
   "cell_type": "code",
   "execution_count": null,
   "metadata": {},
   "outputs": [],
   "source": []
  }
 ],
 "metadata": {
  "kernelspec": {
   "display_name": "Python 3",
   "language": "python",
   "name": "python3"
  },
  "language_info": {
   "codemirror_mode": {
    "name": "ipython",
    "version": 3
   },
   "file_extension": ".py",
   "mimetype": "text/x-python",
   "name": "python",
   "nbconvert_exporter": "python",
   "pygments_lexer": "ipython3",
   "version": "3.12.4"
  }
 },
 "nbformat": 4,
 "nbformat_minor": 2
}
